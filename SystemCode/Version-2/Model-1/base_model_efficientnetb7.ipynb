{
  "cells": [
    {
      "cell_type": "code",
      "execution_count": 1,
      "metadata": {
        "id": "fHo0pDfx6Nqv"
      },
      "outputs": [],
      "source": [
        "import os\n",
        "import pandas as pd\n",
        "import numpy as np\n",
        "import tensorflow as tf\n",
        "from sklearn.metrics import confusion_matrix,classification_report\n",
        "from sklearn.model_selection import train_test_split\n",
        "from tensorflow.keras.models import Sequential\n",
        "from tensorflow.keras.layers import Dense,Flatten,Dropout\n",
        "from tensorflow.keras.metrics import Recall,Precision\n",
        "from sklearn.model_selection import train_test_split\n",
        "from tensorflow.keras.preprocessing.image import ImageDataGenerator\n",
        "from tensorflow.keras.optimizers import Adam\n",
        "from tensorflow.keras.applications import ResNet50, ResNet152\n",
        "from tensorflow.keras.layers import Input,concatenate\n",
        "from tensorflow.keras.models import Model\n",
        "from tensorflow.keras.callbacks import EarlyStopping\n",
        "from tensorflow.keras.applications import EfficientNetB7\n",
        "from tensorflow.keras.layers import Dense, GlobalAveragePooling2D, Input\n",
        "from tensorflow.keras.callbacks import ModelCheckpoint\n"
      ]
    },
    {
      "cell_type": "code",
      "execution_count": 3,
      "metadata": {
        "id": "PEjArtZ-6Z8-"
      },
      "outputs": [],
      "source": [
        "df=pd.read_csv(r\"/Users/priyankapalaniselvam/Downloads/classifier_one_data/full_df.csv\")\n"
      ]
    },
    {
      "cell_type": "code",
      "execution_count": 4,
      "metadata": {
        "id": "OhSPM0yv6cpW"
      },
      "outputs": [],
      "source": [
        "if 'ID' in df.columns:\n",
        "    df=df.drop('ID',axis=1)"
      ]
    },
    {
      "cell_type": "code",
      "execution_count": 5,
      "metadata": {
        "id": "cv0CR0Qz6q--"
      },
      "outputs": [],
      "source": [
        "from sklearn.preprocessing import LabelEncoder\n",
        "label_encoder = LabelEncoder()\n",
        "df['labels'] = label_encoder.fit_transform(df['labels'])\n",
        "df['labels'] = df['labels'].astype(str)\n",
        "left_images=df[['Left-Fundus','labels']]\n",
        "Right_images=df[['Right-Fundus','labels']]\n",
        "\n",
        "left_images.columns=['image','target']\n",
        "Right_images.columns=['image','target']\n"
      ]
    },
    {
      "cell_type": "code",
      "execution_count": 6,
      "metadata": {
        "colab": {
          "base_uri": "https://localhost:8080/",
          "height": 424
        },
        "id": "FsxmfS7I6sMK",
        "outputId": "0113dcbb-23fe-4384-e8b7-49fe07e38728"
      },
      "outputs": [
        {
          "data": {
            "text/html": [
              "<div>\n",
              "<style scoped>\n",
              "    .dataframe tbody tr th:only-of-type {\n",
              "        vertical-align: middle;\n",
              "    }\n",
              "\n",
              "    .dataframe tbody tr th {\n",
              "        vertical-align: top;\n",
              "    }\n",
              "\n",
              "    .dataframe thead th {\n",
              "        text-align: right;\n",
              "    }\n",
              "</style>\n",
              "<table border=\"1\" class=\"dataframe\">\n",
              "  <thead>\n",
              "    <tr style=\"text-align: right;\">\n",
              "      <th></th>\n",
              "      <th>image</th>\n",
              "      <th>target</th>\n",
              "    </tr>\n",
              "  </thead>\n",
              "  <tbody>\n",
              "    <tr>\n",
              "      <th>0</th>\n",
              "      <td>0_left.jpg</td>\n",
              "      <td>6</td>\n",
              "    </tr>\n",
              "    <tr>\n",
              "      <th>1</th>\n",
              "      <td>1_left.jpg</td>\n",
              "      <td>6</td>\n",
              "    </tr>\n",
              "    <tr>\n",
              "      <th>2</th>\n",
              "      <td>2_left.jpg</td>\n",
              "      <td>2</td>\n",
              "    </tr>\n",
              "    <tr>\n",
              "      <th>3</th>\n",
              "      <td>4_left.jpg</td>\n",
              "      <td>2</td>\n",
              "    </tr>\n",
              "    <tr>\n",
              "      <th>4</th>\n",
              "      <td>5_left.jpg</td>\n",
              "      <td>2</td>\n",
              "    </tr>\n",
              "    <tr>\n",
              "      <th>...</th>\n",
              "      <td>...</td>\n",
              "      <td>...</td>\n",
              "    </tr>\n",
              "    <tr>\n",
              "      <th>6387</th>\n",
              "      <td>4686_right.jpg</td>\n",
              "      <td>2</td>\n",
              "    </tr>\n",
              "    <tr>\n",
              "      <th>6388</th>\n",
              "      <td>4688_right.jpg</td>\n",
              "      <td>2</td>\n",
              "    </tr>\n",
              "    <tr>\n",
              "      <th>6389</th>\n",
              "      <td>4689_right.jpg</td>\n",
              "      <td>2</td>\n",
              "    </tr>\n",
              "    <tr>\n",
              "      <th>6390</th>\n",
              "      <td>4690_right.jpg</td>\n",
              "      <td>2</td>\n",
              "    </tr>\n",
              "    <tr>\n",
              "      <th>6391</th>\n",
              "      <td>4784_right.jpg</td>\n",
              "      <td>4</td>\n",
              "    </tr>\n",
              "  </tbody>\n",
              "</table>\n",
              "<p>12784 rows × 2 columns</p>\n",
              "</div>"
            ],
            "text/plain": [
              "               image target\n",
              "0         0_left.jpg      6\n",
              "1         1_left.jpg      6\n",
              "2         2_left.jpg      2\n",
              "3         4_left.jpg      2\n",
              "4         5_left.jpg      2\n",
              "...              ...    ...\n",
              "6387  4686_right.jpg      2\n",
              "6388  4688_right.jpg      2\n",
              "6389  4689_right.jpg      2\n",
              "6390  4690_right.jpg      2\n",
              "6391  4784_right.jpg      4\n",
              "\n",
              "[12784 rows x 2 columns]"
            ]
          },
          "execution_count": 6,
          "metadata": {},
          "output_type": "execute_result"
        }
      ],
      "source": [
        "combined_df=pd.concat([left_images,Right_images])\n",
        "combined_df = combined_df.dropna(subset=['image'])\n",
        "combined_df"
      ]
    },
    {
      "cell_type": "code",
      "execution_count": 7,
      "metadata": {
        "colab": {
          "base_uri": "https://localhost:8080/",
          "height": 206
        },
        "id": "8UJoJByK6w9p",
        "outputId": "739c244f-bd70-4792-b65b-c87e85b8a567"
      },
      "outputs": [
        {
          "data": {
            "text/html": [
              "<div>\n",
              "<style scoped>\n",
              "    .dataframe tbody tr th:only-of-type {\n",
              "        vertical-align: middle;\n",
              "    }\n",
              "\n",
              "    .dataframe tbody tr th {\n",
              "        vertical-align: top;\n",
              "    }\n",
              "\n",
              "    .dataframe thead th {\n",
              "        text-align: right;\n",
              "    }\n",
              "</style>\n",
              "<table border=\"1\" class=\"dataframe\">\n",
              "  <thead>\n",
              "    <tr style=\"text-align: right;\">\n",
              "      <th></th>\n",
              "      <th>image</th>\n",
              "      <th>target</th>\n",
              "    </tr>\n",
              "  </thead>\n",
              "  <tbody>\n",
              "    <tr>\n",
              "      <th>5328</th>\n",
              "      <td>3007_right.jpg</td>\n",
              "      <td>6</td>\n",
              "    </tr>\n",
              "    <tr>\n",
              "      <th>108</th>\n",
              "      <td>128_right.jpg</td>\n",
              "      <td>7</td>\n",
              "    </tr>\n",
              "    <tr>\n",
              "      <th>4023</th>\n",
              "      <td>950_left.jpg</td>\n",
              "      <td>6</td>\n",
              "    </tr>\n",
              "    <tr>\n",
              "      <th>3189</th>\n",
              "      <td>4686_right.jpg</td>\n",
              "      <td>2</td>\n",
              "    </tr>\n",
              "    <tr>\n",
              "      <th>1494</th>\n",
              "      <td>2231_right.jpg</td>\n",
              "      <td>1</td>\n",
              "    </tr>\n",
              "  </tbody>\n",
              "</table>\n",
              "</div>"
            ],
            "text/plain": [
              "               image target\n",
              "5328  3007_right.jpg      6\n",
              "108    128_right.jpg      7\n",
              "4023    950_left.jpg      6\n",
              "3189  4686_right.jpg      2\n",
              "1494  2231_right.jpg      1"
            ]
          },
          "execution_count": 7,
          "metadata": {},
          "output_type": "execute_result"
        }
      ],
      "source": [
        "train_df,test_df=train_test_split(combined_df,test_size=0.2,random_state=42)\n",
        "train_df.head()"
      ]
    },
    {
      "cell_type": "code",
      "execution_count": 8,
      "metadata": {
        "id": "BEo-8hbw630U"
      },
      "outputs": [],
      "source": [
        "datagen=ImageDataGenerator(rescale=1./255)"
      ]
    },
    {
      "cell_type": "code",
      "execution_count": 9,
      "metadata": {
        "colab": {
          "base_uri": "https://localhost:8080/"
        },
        "id": "y0C4z7FM663G",
        "outputId": "0a7aef52-c69f-4936-a49c-d90bf81b5425"
      },
      "outputs": [
        {
          "name": "stdout",
          "output_type": "stream",
          "text": [
            "Found 10227 validated image filenames belonging to 8 classes.\n"
          ]
        }
      ],
      "source": [
        "train_generator=datagen.flow_from_dataframe(\n",
        "    dataframe=train_df,\n",
        "    directory='/Users/priyankapalaniselvam/Downloads/classifier_one_data/ODIR-5K/ODIR-5K/Training Images',\n",
        "    x_col='image',\n",
        "    y_col='target',\n",
        "    subset=\"training\",\n",
        "    class_mode=\"categorical\",\n",
        "    target_size=(224,224),\n",
        "    batch_size=16\n",
        ")\n"
      ]
    },
    {
      "cell_type": "code",
      "execution_count": 10,
      "metadata": {
        "colab": {
          "base_uri": "https://localhost:8080/"
        },
        "id": "yFjtUZdf6-FX",
        "outputId": "45bff2b7-10b0-4e18-8d86-6c8841fe7669"
      },
      "outputs": [
        {
          "name": "stdout",
          "output_type": "stream",
          "text": [
            "Found 2557 validated image filenames belonging to 8 classes.\n"
          ]
        }
      ],
      "source": [
        "validation_generator = datagen.flow_from_dataframe(\n",
        "    dataframe=test_df,\n",
        "    directory='/Users/priyankapalaniselvam/Downloads/classifier_one_data/ODIR-5K/ODIR-5K/Training Images',\n",
        "    x_col=\"image\",\n",
        "    y_col=\"target\",\n",
        "    # subset=\"validation\",\n",
        "    class_mode=\"categorical\",\n",
        "    target_size=(224, 224),\n",
        "    batch_size=32\n",
        "    )"
      ]
    },
    {
      "cell_type": "code",
      "execution_count": 11,
      "metadata": {
        "id": "0RdkDWSVxW1s"
      },
      "outputs": [],
      "source": [
        "import tensorflow as tf\n",
        "from tensorflow.keras.applications import EfficientNetB7\n",
        "from tensorflow.keras.layers import Dense, GlobalAveragePooling2D, Input\n",
        "from tensorflow.keras.models import Model\n",
        "from tensorflow.keras.preprocessing.image import ImageDataGenerator\n",
        "from tensorflow.keras.optimizers import Adam"
      ]
    },
    {
      "cell_type": "code",
      "execution_count": 12,
      "metadata": {
        "colab": {
          "base_uri": "https://localhost:8080/"
        },
        "id": "CD544pqOv6Pr",
        "outputId": "962e5fa2-258f-450c-fc48-72b2a49c4616"
      },
      "outputs": [],
      "source": [
        "input_shape = (224, 224, 3)\n",
        "\n",
        "input_layer = Input(shape=input_shape)\n",
        "num_classes = 8\n",
        "base_model = EfficientNetB7(include_top=False, weights='imagenet', input_tensor=input_layer)\n",
        "x = base_model.output\n",
        "dense1 = GlobalAveragePooling2D()(x)\n",
        "dense2 = Dense(256, activation='relu')(dense1)\n",
        "dense3 = Dense(128, activation='relu')(dense2)\n",
        "dense4 = Dense(64, activation='relu')(dense3)\n",
        "\n",
        "output_layer = Dense(8, activation='softmax')(dense4)\n",
        "model = Model(inputs=input_layer, outputs=output_layer)\n"
      ]
    },
    {
      "cell_type": "code",
      "execution_count": 13,
      "metadata": {
        "id": "4qFeXcHqxoYi"
      },
      "outputs": [],
      "source": [
        "model.compile(optimizer=Adam(learning_rate=0.0001),\n",
        "              loss='categorical_crossentropy',\n",
        "              metrics=['accuracy'])"
      ]
    },
    {
      "cell_type": "code",
      "execution_count": 14,
      "metadata": {
        "id": "0DbqW17B7Dvl"
      },
      "outputs": [],
      "source": [
        "early_stopping = EarlyStopping(monitor='val_loss', patience=5, mode='min', verbose=1)\n"
      ]
    },
    {
      "cell_type": "code",
      "execution_count": 17,
      "metadata": {
        "colab": {
          "base_uri": "https://localhost:8080/"
        },
        "id": "fLwFKUmaAX82",
        "outputId": "14a08f9e-e0c0-471d-e140-ea48b42b399b"
      },
      "outputs": [
        {
          "name": "stdout",
          "output_type": "stream",
          "text": [
            "Epoch 1/5\n",
            "\u001b[1m640/640\u001b[0m \u001b[32m━━━━━━━━━━━━━━━━━━━━\u001b[0m\u001b[37m\u001b[0m \u001b[1m14908s\u001b[0m 23s/step - accuracy: 0.7442 - loss: 0.7143 - val_accuracy: 0.6574 - val_loss: 1.0190\n",
            "Epoch 2/5\n",
            "\u001b[1m640/640\u001b[0m \u001b[32m━━━━━━━━━━━━━━━━━━━━\u001b[0m\u001b[37m\u001b[0m \u001b[1m23821s\u001b[0m 37s/step - accuracy: 0.7536 - loss: 0.6621 - val_accuracy: 0.6903 - val_loss: 0.9749\n",
            "Epoch 3/5\n",
            "\u001b[1m640/640\u001b[0m \u001b[32m━━━━━━━━━━━━━━━━━━━━\u001b[0m\u001b[37m\u001b[0m \u001b[1m12357s\u001b[0m 19s/step - accuracy: 0.8018 - loss: 0.5277 - val_accuracy: 0.6989 - val_loss: 1.0040\n",
            "Epoch 4/5\n",
            "\u001b[1m640/640\u001b[0m \u001b[32m━━━━━━━━━━━━━━━━━━━━\u001b[0m\u001b[37m\u001b[0m \u001b[1m9909s\u001b[0m 15s/step - accuracy: 0.8192 - loss: 0.4571 - val_accuracy: 0.6930 - val_loss: 1.1324\n",
            "Epoch 5/5\n",
            "\u001b[1m640/640\u001b[0m \u001b[32m━━━━━━━━━━━━━━━━━━━━\u001b[0m\u001b[37m\u001b[0m \u001b[1m9753s\u001b[0m 15s/step - accuracy: 0.8399 - loss: 0.3873 - val_accuracy: 0.6785 - val_loss: 1.1498\n"
          ]
        }
      ],
      "source": [
        "history = model.fit(train_generator, epochs=5, validation_data=validation_generator)\n"
      ]
    },
    {
      "cell_type": "code",
      "execution_count": 18,
      "metadata": {
        "colab": {
          "base_uri": "https://localhost:8080/"
        },
        "id": "DKEPtNhj1E1S",
        "outputId": "011a4a9b-288d-49ff-ed24-e5c50c854e35"
      },
      "outputs": [
        {
          "name": "stderr",
          "output_type": "stream",
          "text": [
            "WARNING:absl:You are saving your model as an HDF5 file via `model.save()` or `keras.saving.save_model(model)`. This file format is considered legacy. We recommend using instead the native Keras format, e.g. `model.save('my_model.keras')` or `keras.saving.save_model(model, 'my_model.keras')`. \n"
          ]
        }
      ],
      "source": [
        "model.save('eff_b7.h5')"
      ]
    },
    {
      "cell_type": "code",
      "execution_count": 22,
      "metadata": {
        "id": "mLwmar_71p-b"
      },
      "outputs": [],
      "source": [
        "model.save('my_model.keras')"
      ]
    },
    {
      "cell_type": "code",
      "execution_count": 23,
      "metadata": {
        "id": "28fKG_OKzu0i"
      },
      "outputs": [],
      "source": [
        "model.save_weights('efficientnet_b7.weights.h5')\n"
      ]
    }
  ],
  "metadata": {
    "accelerator": "GPU",
    "colab": {
      "gpuType": "T4",
      "machine_shape": "hm",
      "provenance": []
    },
    "kernelspec": {
      "display_name": "test310",
      "language": "python",
      "name": "python3"
    },
    "language_info": {
      "codemirror_mode": {
        "name": "ipython",
        "version": 3
      },
      "file_extension": ".py",
      "mimetype": "text/x-python",
      "name": "python",
      "nbconvert_exporter": "python",
      "pygments_lexer": "ipython3",
      "version": "3.10.15"
    }
  },
  "nbformat": 4,
  "nbformat_minor": 0
}
