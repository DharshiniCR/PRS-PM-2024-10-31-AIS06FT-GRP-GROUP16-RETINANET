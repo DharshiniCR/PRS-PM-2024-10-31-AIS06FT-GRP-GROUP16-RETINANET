{
  "cells": [
    {
      "cell_type": "code",
      "execution_count": 1,
      "metadata": {
        "id": "zJsa1VgIjxzH"
      },
      "outputs": [],
      "source": [
        "import pandas as pd\n",
        "import numpy as np\n",
        "import matplotlib.pyplot as plt\n",
        "import seaborn as sns\n",
        "from PIL import Image\n",
        "from sklearn.model_selection import train_test_split\n",
        "from sklearn.preprocessing import LabelEncoder\n",
        "from tensorflow.keras.preprocessing.image import ImageDataGenerator\n",
        "from tensorflow.keras.applications import MobileNetV2\n",
        "from tensorflow.keras.layers import Dense, Flatten, Input\n",
        "from tensorflow.keras.models import Model\n",
        "from tensorflow.keras.callbacks import EarlyStopping\n",
        "from tensorflow.keras.metrics import Recall, Precision\n",
        "from tensorflow.keras.preprocessing import image\n",
        "import os\n",
        "import pandas as pd"
      ]
    },
    {
      "cell_type": "markdown",
      "metadata": {
        "id": "jImOL7ecPCzU"
      },
      "source": [
        "#Cataract dataset"
      ]
    },
    {
      "cell_type": "code",
      "execution_count": 5,
      "metadata": {
        "id": "XToNkY3OPBfM"
      },
      "outputs": [],
      "source": [
        "# Define the folder paths for cataract and normal images\n",
        "folder_path = 'cataract_data'  # Update this to your actual path\n",
        "cataract_dir = os.path.join(folder_path, 'cataract')\n",
        "normal_dir = os.path.join(folder_path, 'normal')"
      ]
    },
    {
      "cell_type": "code",
      "execution_count": 6,
      "metadata": {
        "id": "D7DUuyTbPJJB"
      },
      "outputs": [],
      "source": [
        "# Create lists to store image paths and labels\n",
        "image_paths = []\n",
        "labels = []"
      ]
    },
    {
      "cell_type": "code",
      "execution_count": 7,
      "metadata": {
        "id": "clAZjJ7HPL7s"
      },
      "outputs": [],
      "source": [
        "# Loop through the cataract directory\n",
        "for image_name in os.listdir(cataract_dir):\n",
        "    image_paths.append(os.path.join('cataract', image_name))\n",
        "    labels.append('Cataract')"
      ]
    },
    {
      "cell_type": "code",
      "execution_count": 8,
      "metadata": {
        "id": "9DU1GGPNPP9w"
      },
      "outputs": [],
      "source": [
        "# Loop through the normal directory\n",
        "for image_name in os.listdir(normal_dir):\n",
        "    image_paths.append(os.path.join('normal', image_name))\n",
        "    labels.append('Normal')"
      ]
    },
    {
      "cell_type": "code",
      "execution_count": 9,
      "metadata": {
        "id": "pHt0R0Z5PU2z"
      },
      "outputs": [],
      "source": [
        "# Create a pandas DataFrame\n",
        "df_cataract = pd.DataFrame({\n",
        "    'image_path': image_paths,\n",
        "    'label': labels\n",
        "})"
      ]
    },
    {
      "cell_type": "code",
      "execution_count": 10,
      "metadata": {
        "id": "ZHnuamv8j3fo"
      },
      "outputs": [],
      "source": [
        "# Save the DataFrame to a CSV file\n",
        "csv_path = 'cataract_data/cataract_dataset.csv'  # Update this path\n",
        "df_cataract.to_csv(csv_path, index=False)"
      ]
    },
    {
      "cell_type": "code",
      "execution_count": 11,
      "metadata": {
        "colab": {
          "base_uri": "https://localhost:8080/"
        },
        "id": "lBdsVz1CPZsI",
        "outputId": "9e406740-75e5-420b-b9f1-6d7029b7311b"
      },
      "outputs": [
        {
          "name": "stdout",
          "output_type": "stream",
          "text": [
            "CSV file has been generated and saved to cataract_data/cataract_dataset.csv\n"
          ]
        }
      ],
      "source": [
        "print(f\"CSV file has been generated and saved to {csv_path}\")"
      ]
    },
    {
      "cell_type": "code",
      "execution_count": 14,
      "metadata": {
        "id": "KJ44zgkRkIT3"
      },
      "outputs": [],
      "source": [
        "csv_cataract=pd.read_csv('cataract_data/cataract_dataset.csv')"
      ]
    },
    {
      "cell_type": "code",
      "execution_count": 15,
      "metadata": {
        "colab": {
          "base_uri": "https://localhost:8080/"
        },
        "id": "Pe7ntrn7kQmK",
        "outputId": "9e6e951e-0181-4c4d-9bd2-d4c7d3014d23"
      },
      "outputs": [
        {
          "name": "stdout",
          "output_type": "stream",
          "text": [
            "Index(['image_path', 'label'], dtype='object')\n"
          ]
        }
      ],
      "source": [
        "print(csv_cataract.columns)"
      ]
    },
    {
      "cell_type": "code",
      "execution_count": 16,
      "metadata": {
        "colab": {
          "base_uri": "https://localhost:8080/"
        },
        "id": "HyV_OL3XnL5Q",
        "outputId": "9532c30a-693d-418a-8f06-dfccdab39414"
      },
      "outputs": [
        {
          "name": "stdout",
          "output_type": "stream",
          "text": [
            "                  image_path     label\n",
            "0     cataract/2124_left.jpg  Cataract\n",
            "1   cataract/_393_746807.jpg  Cataract\n",
            "2     cataract/2125_left.jpg  Cataract\n",
            "3  cataract/_182_9646286.jpg  Cataract\n",
            "4   cataract/_245_498355.jpg  Cataract\n"
          ]
        }
      ],
      "source": [
        "print(csv_cataract.head())"
      ]
    },
    {
      "cell_type": "code",
      "execution_count": 17,
      "metadata": {
        "colab": {
          "base_uri": "https://localhost:8080/"
        },
        "id": "WYGtke-MPdZn",
        "outputId": "58cc49ce-f9a0-4ddf-bfac-75d2f79745d7"
      },
      "outputs": [
        {
          "name": "stdout",
          "output_type": "stream",
          "text": [
            "csv_cataract size\n",
            "4224\n",
            "csv_cataract shape\n",
            "(2112, 2)\n"
          ]
        }
      ],
      "source": [
        "print('csv_cataract size')\n",
        "print(csv_cataract.size)\n",
        "print('csv_cataract shape')\n",
        "print(csv_cataract.shape)"
      ]
    },
    {
      "cell_type": "markdown",
      "metadata": {
        "id": "5uziglhHkqXF"
      },
      "source": [
        "**cataract data columns**\n",
        "\n",
        "['image_path', 'label']"
      ]
    },
    {
      "cell_type": "markdown",
      "metadata": {
        "id": "_W1xiZqQTB01"
      },
      "source": [
        "#*Base classifier*\n"
      ]
    },
    {
      "cell_type": "code",
      "execution_count": 18,
      "metadata": {
        "id": "2YVrMWeVkbsz"
      },
      "outputs": [],
      "source": [
        "df_base_classsifier=pd.read_csv(r\"classifier_one_data/full_df.csv\")\n"
      ]
    },
    {
      "cell_type": "code",
      "execution_count": 19,
      "metadata": {},
      "outputs": [
        {
          "name": "stdout",
          "output_type": "stream",
          "text": [
            "Index(['ID', 'Patient Age', 'Patient Sex', 'Left-Fundus', 'Right-Fundus',\n",
            "       'Left-Diagnostic Keywords', 'Right-Diagnostic Keywords', 'N', 'D', 'G',\n",
            "       'C', 'A', 'H', 'M', 'O', 'filepath', 'labels', 'target', 'filename'],\n",
            "      dtype='object')\n"
          ]
        }
      ],
      "source": [
        "print(df_base_classsifier.columns)"
      ]
    },
    {
      "cell_type": "code",
      "execution_count": 20,
      "metadata": {
        "colab": {
          "base_uri": "https://localhost:8080/"
        },
        "id": "069dHt4ulmBh",
        "outputId": "2a3af55f-b577-4b8d-c667-5daa898eba74"
      },
      "outputs": [
        {
          "name": "stdout",
          "output_type": "stream",
          "text": [
            "../input/ocular-disease-recognition-odir5k/ODIR-5K/Training Images/0_right.jpg\n"
          ]
        }
      ],
      "source": [
        "print(df_base_classsifier.filepath[0])"
      ]
    },
    {
      "cell_type": "code",
      "execution_count": 21,
      "metadata": {
        "colab": {
          "base_uri": "https://localhost:8080/"
        },
        "id": "wwgeBbL4gArH",
        "outputId": "54a3f0df-bdc6-4aa3-8de2-7e2129f39e43"
      },
      "outputs": [
        {
          "name": "stdout",
          "output_type": "stream",
          "text": [
            "   ID  Patient Age Patient Sex Left-Fundus Right-Fundus  \\\n",
            "0   0           69      Female  0_left.jpg  0_right.jpg   \n",
            "1   1           57        Male  1_left.jpg  1_right.jpg   \n",
            "2   2           42        Male  2_left.jpg  2_right.jpg   \n",
            "3   4           53        Male  4_left.jpg  4_right.jpg   \n",
            "4   5           50      Female  5_left.jpg  5_right.jpg   \n",
            "\n",
            "                            Left-Diagnostic Keywords  \\\n",
            "0                                           cataract   \n",
            "1                                      normal fundus   \n",
            "2  laser spot，moderate non proliferative retinopathy   \n",
            "3                        macular epiretinal membrane   \n",
            "4             moderate non proliferative retinopathy   \n",
            "\n",
            "                Right-Diagnostic Keywords  N  D  G  C  A  H  M  O  \\\n",
            "0                           normal fundus  0  0  0  1  0  0  0  0   \n",
            "1                           normal fundus  1  0  0  0  0  0  0  0   \n",
            "2  moderate non proliferative retinopathy  0  1  0  0  0  0  0  1   \n",
            "3       mild nonproliferative retinopathy  0  1  0  0  0  0  0  1   \n",
            "4  moderate non proliferative retinopathy  0  1  0  0  0  0  0  0   \n",
            "\n",
            "                                            filepath labels  \\\n",
            "0  ../input/ocular-disease-recognition-odir5k/ODI...  ['N']   \n",
            "1  ../input/ocular-disease-recognition-odir5k/ODI...  ['N']   \n",
            "2  ../input/ocular-disease-recognition-odir5k/ODI...  ['D']   \n",
            "3  ../input/ocular-disease-recognition-odir5k/ODI...  ['D']   \n",
            "4  ../input/ocular-disease-recognition-odir5k/ODI...  ['D']   \n",
            "\n",
            "                     target     filename  \n",
            "0  [1, 0, 0, 0, 0, 0, 0, 0]  0_right.jpg  \n",
            "1  [1, 0, 0, 0, 0, 0, 0, 0]  1_right.jpg  \n",
            "2  [0, 1, 0, 0, 0, 0, 0, 0]  2_right.jpg  \n",
            "3  [0, 1, 0, 0, 0, 0, 0, 0]  4_right.jpg  \n",
            "4  [0, 1, 0, 0, 0, 0, 0, 0]  5_right.jpg  \n"
          ]
        }
      ],
      "source": [
        "print(df_base_classsifier.head())"
      ]
    },
    {
      "cell_type": "code",
      "execution_count": null,
      "metadata": {
        "id": "oL_qRaMhntC2"
      },
      "outputs": [],
      "source": [
        "# print(df_base_classifier.head())"
      ]
    },
    {
      "cell_type": "markdown",
      "metadata": {
        "id": "kt3CCBrklM4b"
      },
      "source": [
        "**BASE CLASSIFIER**\n",
        "\n",
        "['ID', 'Patient Age', 'Patient Sex', 'Left-Fundus', 'Right-Fundus',\n",
        "       'Left-Diagnostic Keywords', 'Right-Diagnostic Keywords', 'N', 'D', 'G',\n",
        "       'C', 'A', 'H', 'M', 'O', 'filepath', 'labels', 'target', 'filename']"
      ]
    },
    {
      "cell_type": "markdown",
      "metadata": {
        "id": "Kgqh9osbmwjB"
      },
      "source": [
        "# CONCATENATION"
      ]
    },
    {
      "cell_type": "code",
      "execution_count": 22,
      "metadata": {
        "id": "SPubmQI6m3CU"
      },
      "outputs": [],
      "source": [
        "# Step 1: Read the CSV files\n",
        "df_base_classifier = pd.read_csv(r\"classifier_one_data/full_df.csv\")\n",
        "df_cataract_classifier = pd.read_csv(r\"cataract_data/cataract_dataset.csv\")"
      ]
    },
    {
      "cell_type": "code",
      "execution_count": 23,
      "metadata": {
        "id": "5zW_HtTdndLR"
      },
      "outputs": [],
      "source": [
        "# Step 2: Ensure consistent column names\n",
        "# Assuming the column that contains image paths and labels are 'image_path' and 'label'\n",
        "df_base_classifier.rename(columns={'filepath': 'image_path', 'labels': 'label'}, inplace=True)\n",
        "df_cataract_classifier.rename(columns={'image_path': 'image_path', 'labels': 'label'}, inplace=True)\n"
      ]
    },
    {
      "cell_type": "code",
      "execution_count": 24,
      "metadata": {
        "id": "1yn6tVMWpdtn"
      },
      "outputs": [],
      "source": [
        "# Step 3: Add a 'source' column to each dataframe to indicate its origin\n",
        "df_base_classifier['source'] = 'classifier_one'\n",
        "df_cataract_classifier['source'] = 'cataract'\n"
      ]
    },
    {
      "cell_type": "code",
      "execution_count": 25,
      "metadata": {
        "id": "HxkmGK25qFg-"
      },
      "outputs": [],
      "source": [
        "df_base_classifier_final=df_base_classifier[['image_path','label','source']]"
      ]
    },
    {
      "cell_type": "code",
      "execution_count": 26,
      "metadata": {
        "colab": {
          "base_uri": "https://localhost:8080/"
        },
        "id": "Jtw5AljHpjof",
        "outputId": "58270da5-0bfc-4ee9-e700-2f8f17bc6d96"
      },
      "outputs": [
        {
          "name": "stdout",
          "output_type": "stream",
          "text": [
            "(6392, 3)\n",
            "(2112, 3)\n"
          ]
        }
      ],
      "source": [
        "print(df_base_classifier_final.shape)\n",
        "print(df_cataract_classifier.shape)"
      ]
    },
    {
      "cell_type": "code",
      "execution_count": 27,
      "metadata": {
        "id": "qapLJqwRjCvO"
      },
      "outputs": [],
      "source": [
        "# Use .loc to update the 'image_path' column for each dataset\n",
        "df_base_classifier_final.loc[:, 'image_path'] = df_base_classifier_final['image_path'].apply(lambda x: 'classifier_one_data/' + x)\n",
        "df_cataract_classifier.loc[:, 'image_path'] = df_cataract_classifier['image_path'].apply(lambda x: 'cataract_data/' + x)"
      ]
    },
    {
      "cell_type": "code",
      "execution_count": 29,
      "metadata": {},
      "outputs": [
        {
          "data": {
            "text/plain": [
              "'classifier_one_data/../input/ocular-disease-recognition-odir5k/ODIR-5K/Training Images/0_right.jpg'"
            ]
          },
          "execution_count": 29,
          "metadata": {},
          "output_type": "execute_result"
        }
      ],
      "source": [
        "df_base_classifier_final['image_path'][0]"
      ]
    },
    {
      "cell_type": "code",
      "execution_count": 30,
      "metadata": {},
      "outputs": [
        {
          "data": {
            "text/plain": [
              "'cataract_data/cataract/2124_left.jpg'"
            ]
          },
          "execution_count": 30,
          "metadata": {},
          "output_type": "execute_result"
        }
      ],
      "source": [
        "df_cataract_classifier['image_path'][0]"
      ]
    },
    {
      "cell_type": "code",
      "execution_count": 32,
      "metadata": {
        "id": "UdnD3DV8phVH"
      },
      "outputs": [],
      "source": [
        "# Step 4: Concatenate the two DataFrames\n",
        "df_combined = pd.concat([df_base_classifier_final, df_cataract_classifier], ignore_index=True)"
      ]
    },
    {
      "cell_type": "code",
      "execution_count": 35,
      "metadata": {
        "colab": {
          "base_uri": "https://localhost:8080/"
        },
        "id": "m5_gvMqNqH9g",
        "outputId": "d80b0cb8-0bb4-41eb-8293-af83062df547"
      },
      "outputs": [
        {
          "name": "stdout",
          "output_type": "stream",
          "text": [
            "                               image_path   label    source\n",
            "2107  cataract_data/normal/2500_right.jpg  Normal  cataract\n",
            "2108   cataract_data/normal/3353_left.jpg  Normal  cataract\n",
            "2109   cataract_data/normal/3352_left.jpg  Normal  cataract\n",
            "2110   cataract_data/normal/2554_left.jpg  Normal  cataract\n",
            "2111   cataract_data/normal/2732_left.jpg  Normal  cataract\n",
            "                                             image_path  label          source\n",
            "6387  classifier_one_data/../input/ocular-disease-re...  ['D']  classifier_one\n",
            "6388  classifier_one_data/../input/ocular-disease-re...  ['D']  classifier_one\n",
            "6389  classifier_one_data/../input/ocular-disease-re...  ['D']  classifier_one\n",
            "6390  classifier_one_data/../input/ocular-disease-re...  ['D']  classifier_one\n",
            "6391  classifier_one_data/../input/ocular-disease-re...  ['H']  classifier_one\n"
          ]
        }
      ],
      "source": [
        "print(df_cataract_classifier.tail())\n",
        "print(df_base_classifier_final.tail())"
      ]
    },
    {
      "cell_type": "code",
      "execution_count": 34,
      "metadata": {
        "colab": {
          "base_uri": "https://localhost:8080/"
        },
        "id": "UhufqaHPjexN",
        "outputId": "a2c6c740-1a4b-4f71-b067-224e78cd7a77"
      },
      "outputs": [
        {
          "name": "stdout",
          "output_type": "stream",
          "text": [
            "                                          image_path  label          source\n",
            "0  classifier_one_data/../input/ocular-disease-re...  ['N']  classifier_one\n",
            "1  classifier_one_data/../input/ocular-disease-re...  ['N']  classifier_one\n",
            "2  classifier_one_data/../input/ocular-disease-re...  ['D']  classifier_one\n",
            "3  classifier_one_data/../input/ocular-disease-re...  ['D']  classifier_one\n",
            "4  classifier_one_data/../input/ocular-disease-re...  ['D']  classifier_one\n"
          ]
        }
      ],
      "source": [
        "print(df_combined.head())"
      ]
    },
    {
      "cell_type": "code",
      "execution_count": 36,
      "metadata": {
        "colab": {
          "base_uri": "https://localhost:8080/"
        },
        "id": "25vf-HNMqz_q",
        "outputId": "1d6bd775-b39e-4673-a4ee-88fc1253e250"
      },
      "outputs": [
        {
          "name": "stdout",
          "output_type": "stream",
          "text": [
            "8504\n"
          ]
        }
      ],
      "source": [
        "print(6392+2112)"
      ]
    },
    {
      "cell_type": "code",
      "execution_count": 37,
      "metadata": {
        "colab": {
          "base_uri": "https://localhost:8080/"
        },
        "id": "88Kc_Hg1qrA8",
        "outputId": "ff8e98f1-7b56-490c-f2a4-b29a989b0e45"
      },
      "outputs": [
        {
          "name": "stdout",
          "output_type": "stream",
          "text": [
            "(8504, 3)\n"
          ]
        }
      ],
      "source": [
        "print(df_combined.shape)"
      ]
    },
    {
      "cell_type": "code",
      "execution_count": 38,
      "metadata": {
        "colab": {
          "base_uri": "https://localhost:8080/"
        },
        "id": "PMM1oLTmrEQS",
        "outputId": "afda3aac-0a82-4e3d-cc8c-25532c6cc356"
      },
      "outputs": [
        {
          "name": "stdout",
          "output_type": "stream",
          "text": [
            "Unique label values: [\"['N']\" \"['D']\" \"['O']\" \"['M']\" \"['H']\" \"['C']\" \"['A']\" \"['G']\"\n",
            " 'Cataract' 'Normal']\n"
          ]
        }
      ],
      "source": [
        "unique_labels = df_combined['label'].unique()\n",
        "\n",
        "print(\"Unique label values:\", unique_labels)\n"
      ]
    },
    {
      "cell_type": "code",
      "execution_count": 39,
      "metadata": {
        "id": "cYerUaFbrmcl"
      },
      "outputs": [],
      "source": [
        "df_combined['label'] = df_combined['label'].replace(\"['C']\", 'Cataract')\n",
        "df_combined['label'] = df_combined['label'].replace(\"['N']\", 'Normal')\n",
        "df_combined['label'] = df_combined['label'].replace(\"['D']\", 'Diabetic Retinopathy')\n",
        "df_combined['label'] = df_combined['label'].replace(\"['O']\", 'Other')\n",
        "df_combined['label'] = df_combined['label'].replace(\"['M']\", 'Pathological Myopia')\n",
        "df_combined['label'] = df_combined['label'].replace(\"['H']\", 'Hypertension')\n",
        "df_combined['label'] = df_combined['label'].replace(\"['G']\", 'Glaucoma')\n",
        "df_combined['label'] = df_combined['label'].replace(\"['A']\", 'Age related Macular Degeneration')\n",
        "\n"
      ]
    },
    {
      "cell_type": "code",
      "execution_count": 40,
      "metadata": {
        "colab": {
          "base_uri": "https://localhost:8080/"
        },
        "id": "QFz8VxO2rs_T",
        "outputId": "7c97821c-7fff-40aa-9c2e-2fc76712cde3"
      },
      "outputs": [
        {
          "name": "stdout",
          "output_type": "stream",
          "text": [
            "Unique label values: ['Normal' 'Diabetic Retinopathy' 'Other' 'Pathological Myopia'\n",
            " 'Hypertension' 'Cataract' 'Age related Macular Degeneration' 'Glaucoma']\n"
          ]
        }
      ],
      "source": [
        "unique_labels = df_combined['label'].unique()\n",
        "\n",
        "print(\"Unique label values:\", unique_labels)\n"
      ]
    },
    {
      "cell_type": "code",
      "execution_count": null,
      "metadata": {
        "id": "E-dQkbxPtEBU"
      },
      "outputs": [],
      "source": [
        "# # Step 5: Add the folder path to the 'image_path' column for each dataset\n",
        "# df_base_classifier_final['image_path'] = df_base_classifier_final['image_path'].apply(lambda x: '/content/drive/My Drive/data/classifier_one_data/' + x)\n",
        "# df_cataract_classifier['image_path'] = df_cataract_classifier['image_path'].apply(lambda x: '/content/drive/My Drive/data/cataract_data/' + x)\n"
      ]
    },
    {
      "cell_type": "code",
      "execution_count": 41,
      "metadata": {
        "colab": {
          "base_uri": "https://localhost:8080/"
        },
        "id": "6ZJ0EPlVtJYe",
        "outputId": "7f5786b4-8deb-4c27-f77f-9068574b8ca3"
      },
      "outputs": [
        {
          "name": "stdout",
          "output_type": "stream",
          "text": [
            "                                image_path     label    source\n",
            "0     cataract_data/cataract/2124_left.jpg  Cataract  cataract\n",
            "1   cataract_data/cataract/_393_746807.jpg  Cataract  cataract\n",
            "2     cataract_data/cataract/2125_left.jpg  Cataract  cataract\n",
            "3  cataract_data/cataract/_182_9646286.jpg  Cataract  cataract\n",
            "4   cataract_data/cataract/_245_498355.jpg  Cataract  cataract\n"
          ]
        }
      ],
      "source": [
        "print(df_cataract_classifier.head())"
      ]
    },
    {
      "cell_type": "code",
      "execution_count": 42,
      "metadata": {
        "colab": {
          "base_uri": "https://localhost:8080/"
        },
        "id": "1dXm2wijtTkV",
        "outputId": "182d880b-24d2-47af-e092-62e3c13e8aeb"
      },
      "outputs": [
        {
          "name": "stdout",
          "output_type": "stream",
          "text": [
            "                                          image_path  label          source\n",
            "0  classifier_one_data/../input/ocular-disease-re...  ['N']  classifier_one\n",
            "1  classifier_one_data/../input/ocular-disease-re...  ['N']  classifier_one\n",
            "2  classifier_one_data/../input/ocular-disease-re...  ['D']  classifier_one\n",
            "3  classifier_one_data/../input/ocular-disease-re...  ['D']  classifier_one\n",
            "4  classifier_one_data/../input/ocular-disease-re...  ['D']  classifier_one\n"
          ]
        }
      ],
      "source": [
        "print(df_base_classifier_final.head())"
      ]
    },
    {
      "cell_type": "code",
      "execution_count": 43,
      "metadata": {
        "colab": {
          "base_uri": "https://localhost:8080/"
        },
        "id": "Qv1UzHQ9tjlz",
        "outputId": "846c59b3-5c86-4d48-9f97-4455147e626b"
      },
      "outputs": [
        {
          "name": "stdout",
          "output_type": "stream",
          "text": [
            "                                          image_path                 label  \\\n",
            "0  classifier_one_data/../input/ocular-disease-re...                Normal   \n",
            "1  classifier_one_data/../input/ocular-disease-re...                Normal   \n",
            "2  classifier_one_data/../input/ocular-disease-re...  Diabetic Retinopathy   \n",
            "3  classifier_one_data/../input/ocular-disease-re...  Diabetic Retinopathy   \n",
            "4  classifier_one_data/../input/ocular-disease-re...  Diabetic Retinopathy   \n",
            "\n",
            "           source  \n",
            "0  classifier_one  \n",
            "1  classifier_one  \n",
            "2  classifier_one  \n",
            "3  classifier_one  \n",
            "4  classifier_one  \n"
          ]
        }
      ],
      "source": [
        "# Check the concatenated DataFrame\n",
        "print(df_combined.head())\n"
      ]
    },
    {
      "cell_type": "code",
      "execution_count": 44,
      "metadata": {
        "colab": {
          "base_uri": "https://localhost:8080/"
        },
        "id": "K1swW3SstmeP",
        "outputId": "1cf103a3-4b97-44b6-e432-7fb753ca0d1e"
      },
      "outputs": [
        {
          "name": "stdout",
          "output_type": "stream",
          "text": [
            "                               image_path   label    source\n",
            "8499  cataract_data/normal/2500_right.jpg  Normal  cataract\n",
            "8500   cataract_data/normal/3353_left.jpg  Normal  cataract\n",
            "8501   cataract_data/normal/3352_left.jpg  Normal  cataract\n",
            "8502   cataract_data/normal/2554_left.jpg  Normal  cataract\n",
            "8503   cataract_data/normal/2732_left.jpg  Normal  cataract\n"
          ]
        }
      ],
      "source": [
        "print(df_combined.tail())"
      ]
    },
    {
      "cell_type": "code",
      "execution_count": 46,
      "metadata": {
        "colab": {
          "base_uri": "https://localhost:8080/"
        },
        "id": "0uJjL6Immyes",
        "outputId": "99651587-3d88-4513-9df1-1c72d4288f08"
      },
      "outputs": [
        {
          "name": "stdout",
          "output_type": "stream",
          "text": [
            "Combined CSV file saved.\n"
          ]
        }
      ],
      "source": [
        "# Step 6: Save the combined DataFrame to a new CSV file\n",
        "df_combined.to_csv(r\"base_cat_df_combined.csv\", index=False)\n",
        "print(\"Combined CSV file saved.\")\n"
      ]
    },
    {
      "cell_type": "code",
      "execution_count": 48,
      "metadata": {
        "id": "YWnUkHJSqltY"
      },
      "outputs": [],
      "source": [
        "csv_path = 'concat1.csv'\n",
        "df_combined.to_csv(csv_path, index=False)\n"
      ]
    }
  ],
  "metadata": {
    "colab": {
      "provenance": []
    },
    "kernelspec": {
      "display_name": "Python 3",
      "name": "python3"
    },
    "language_info": {
      "codemirror_mode": {
        "name": "ipython",
        "version": 3
      },
      "file_extension": ".py",
      "mimetype": "text/x-python",
      "name": "python",
      "nbconvert_exporter": "python",
      "pygments_lexer": "ipython3",
      "version": "3.9.19"
    }
  },
  "nbformat": 4,
  "nbformat_minor": 0
}
